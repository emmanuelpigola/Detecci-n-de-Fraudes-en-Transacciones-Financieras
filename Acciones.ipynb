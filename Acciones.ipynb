{
  "nbformat": 4,
  "nbformat_minor": 0,
  "metadata": {
    "colab": {
      "provenance": [],
      "authorship_tag": "ABX9TyPBjFGySMn86Nh+BmO8jd6h",
      "include_colab_link": true
    },
    "kernelspec": {
      "name": "python3",
      "display_name": "Python 3"
    },
    "language_info": {
      "name": "python"
    }
  },
  "cells": [
    {
      "cell_type": "markdown",
      "metadata": {
        "id": "view-in-github",
        "colab_type": "text"
      },
      "source": [
        "<a href=\"https://colab.research.google.com/github/emmanuelpigola/Deteccion-de-Fraudes-en-Transacciones-Financieras/blob/Google-Colab/Acciones.ipynb\" target=\"_parent\"><img src=\"https://colab.research.google.com/assets/colab-badge.svg\" alt=\"Open In Colab\"/></a>"
      ]
    },
    {
      "cell_type": "markdown",
      "source": [
        "Paso 1: Definir el Problema y la Motivación\n",
        "Abstracto con Motivación y Audiencia\n",
        "\n",
        "Motivación: Analizar los datos históricos de precios de las acciones puede proporcionar información valiosa sobre las tendencias del mercado y ayudar a tomar decisiones de inversión informadas.\n",
        "\n",
        "Audiencia: Este análisis está dirigido a inversores, analistas financieros y cualquier persona interesada en el mercado de valores.\n",
        "\n",
        "Preguntas/Hipótesis\n",
        "\n",
        "¿Cómo ha evolucionado el precio de las acciones de una empresa específica (por ejemplo, Apple) a lo largo del tiempo?\n",
        "¿Cuáles son los meses con el mayor rendimiento en términos de precio de las acciones?\n",
        "¿Existe una tendencia estacional en los precios de las acciones?\n",
        "Paso 2: Adquirir y Limpiar los Datos\n",
        "Importación de Datos"
      ],
      "metadata": {
        "id": "5K3rVuy9ZpSa"
      }
    },
    {
      "cell_type": "markdown",
      "source": [
        "Paso 2: Adquirir y Limpiar los Datos\n",
        "Importación de Datos\n",
        "\n",
        "Instalamos la biblioteca yfinance"
      ],
      "metadata": {
        "id": "Q7-k1_KDaAny"
      }
    },
    {
      "cell_type": "code",
      "source": [
        "pip install yfinance"
      ],
      "metadata": {
        "id": "BaBYx0ZhaMc5"
      },
      "execution_count": null,
      "outputs": []
    },
    {
      "cell_type": "markdown",
      "source": [
        "Importamos los datos de Yahoo Finance utilizando yfinance"
      ],
      "metadata": {
        "id": "tH3yPR9XaQt_"
      }
    },
    {
      "cell_type": "code",
      "source": [
        "import yfinance as yf\n",
        "import pandas as pd\n",
        "\n",
        "# Definir el símbolo de la acción\n",
        "symbol = 'AAPL'  # Apple en este caso\n",
        "\n",
        "# Descargar los datos\n",
        "df = yf.download(symbol, start='2020-01-01', end='2023-01-01')\n",
        "\n",
        "# Guardar como CSV\n",
        "df.to_csv('apple_stock_data.csv')"
      ],
      "metadata": {
        "id": "2nR51giBaTl7"
      },
      "execution_count": null,
      "outputs": []
    },
    {
      "cell_type": "markdown",
      "source": [
        "Limpieza y Transformación de Datos"
      ],
      "metadata": {
        "id": "EFx4grq9aW4L"
      }
    },
    {
      "cell_type": "code",
      "source": [
        "# Cargar datos\n",
        "df = pd.read_csv('apple_stock_data.csv')\n",
        "\n",
        "# Convertir la columna 'Date' a formato de fecha\n",
        "df['Date'] = pd.to_datetime(df['Date'])\n",
        "\n",
        "# Agregar columnas para mes y año\n",
        "df['Month'] = df['Date'].dt.month\n",
        "df['Year'] = df['Date'].dt.year\n",
        "\n",
        "# Mostrar la estructura del DataFrame\n",
        "df.info()"
      ],
      "metadata": {
        "id": "0lPRd-_tajp3"
      },
      "execution_count": null,
      "outputs": []
    },
    {
      "cell_type": "markdown",
      "source": [
        "Paso 3: Análisis Exploratorio de Datos (EDA)\n",
        "Análisis Descriptivo y Visualizaciones"
      ],
      "metadata": {
        "id": "vtu2EG1aakhd"
      }
    },
    {
      "cell_type": "code",
      "source": [
        "import matplotlib.pyplot as plt\n",
        "import seaborn as sns\n",
        "\n",
        "# Análisis descriptivo\n",
        "print(df.describe())\n",
        "\n",
        "# Visualización de la evolución del precio de cierre\n",
        "plt.figure(figsize=(10, 6))\n",
        "sns.lineplot(data=df, x='Date', y='Close')\n",
        "plt.title('Tendencia del precio de cierre de las acciones de Apple')\n",
        "plt.xlabel('Fecha')\n",
        "plt.ylabel('Precio de Cierre (USD)')\n",
        "plt.show()\n",
        "\n",
        "# Visualización de precios por mes\n",
        "plt.figure(figsize=(10, 6))\n",
        "sns.barplot(data=df, x='Month', y='Close', estimator=sum)\n",
        "plt.title('Precio de cierre de las acciones de Apple por mes')\n",
        "plt.xlabel('Mes')\n",
        "plt.ylabel('Precio de Cierre (USD)')\n",
        "plt.show()"
      ],
      "metadata": {
        "id": "-G7SDFALanHb"
      },
      "execution_count": null,
      "outputs": []
    },
    {
      "cell_type": "code",
      "source": [],
      "metadata": {
        "id": "XMO5Q87ibSnh"
      },
      "execution_count": null,
      "outputs": []
    }
  ]
}