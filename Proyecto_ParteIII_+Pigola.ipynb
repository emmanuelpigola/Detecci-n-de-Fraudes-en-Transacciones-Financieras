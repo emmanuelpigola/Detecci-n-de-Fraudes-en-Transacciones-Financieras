{
  "nbformat": 4,
  "nbformat_minor": 0,
  "metadata": {
    "colab": {
      "provenance": [],
      "authorship_tag": "ABX9TyPaNCRx24CaULqboZhb9FlE",
      "include_colab_link": true
    },
    "kernelspec": {
      "name": "python3",
      "display_name": "Python 3"
    },
    "language_info": {
      "name": "python"
    }
  },
  "cells": [
    {
      "cell_type": "markdown",
      "metadata": {
        "id": "view-in-github",
        "colab_type": "text"
      },
      "source": [
        "<a href=\"https://colab.research.google.com/github/emmanuelpigola/Deteccion-de-Fraudes-en-Transacciones-Financieras/blob/Google-Colab/Proyecto_ParteIII_%2BPigola.ipynb\" target=\"_parent\"><img src=\"https://colab.research.google.com/assets/colab-badge.svg\" alt=\"Open In Colab\"/></a>"
      ]
    },
    {
      "cell_type": "markdown",
      "source": [
        "# Detección de Fraudes en Transacciones Financieras"
      ],
      "metadata": {
        "id": "8EhBehvUYtGD"
      }
    },
    {
      "cell_type": "code",
      "execution_count": null,
      "metadata": {
        "id": "2ARF6QSj4-4Y"
      },
      "outputs": [],
      "source": [
        "# 1. Importación de bibliotecas\n",
        "import pandas as pd\n",
        "from sklearn.model_selection import train_test_split\n",
        "from sklearn.ensemble import RandomForestClassifier\n",
        "from sklearn.feature_selection import RFE\n",
        "from sklearn.metrics import classification_report"
      ]
    },
    {
      "cell_type": "code",
      "source": [
        "from google.colab import drive\n",
        "drive.mount('/content/drive')"
      ],
      "metadata": {
        "colab": {
          "base_uri": "https://localhost:8080/"
        },
        "id": "LO62AH7W5OIA",
        "outputId": "3a5469c3-87be-4fc3-d628-2e107ea460b5"
      },
      "execution_count": null,
      "outputs": [
        {
          "output_type": "stream",
          "name": "stdout",
          "text": [
            "Mounted at /content/drive\n"
          ]
        }
      ]
    },
    {
      "cell_type": "code",
      "source": [
        "# 2. Cargar el conjunto de datos\n",
        "file_path = \"/content/drive/MyDrive/Entrega Coder House/Fraud excel.xlsx\"\n",
        "data = pd.read_excel(file_path)"
      ],
      "metadata": {
        "id": "1AYnLrbD5ZZk"
      },
      "execution_count": null,
      "outputs": []
    },
    {
      "cell_type": "code",
      "source": [
        "# Seleccionar una muestra aleatoria más pequeña y reducir el tamaño del DataFrame\n",
        "selected_features = ['step', 'amount', 'oldbalanceOrg', 'newbalanceOrig', 'oldbalanceDest', 'newbalanceDest', 'type', 'isFraud']\n",
        "data_sample = data[selected_features].sample(frac=0.1, random_state=42)"
      ],
      "metadata": {
        "id": "Q-rHDloi5cJz"
      },
      "execution_count": null,
      "outputs": []
    },
    {
      "cell_type": "code",
      "source": [
        "# Codificar variables categóricas\n",
        "data_preprocessed = pd.get_dummies(data_sample, columns=['type'])"
      ],
      "metadata": {
        "id": "YN7S87Bx5d41"
      },
      "execution_count": null,
      "outputs": []
    },
    {
      "cell_type": "code",
      "source": [
        "# Dividir el conjunto de datos en características (X) y etiquetas (y)\n",
        "X = data_preprocessed.drop(['isFraud'], axis=1)\n",
        "y = data_preprocessed['isFraud']"
      ],
      "metadata": {
        "id": "ZoErQojw5fx2"
      },
      "execution_count": null,
      "outputs": []
    },
    {
      "cell_type": "code",
      "source": [
        "# 3. Dividir los Datos en Conjuntos de Entrenamiento y Prueba\n",
        "X_train, X_test, y_train, y_test = train_test_split(X, y, test_size=0.2, random_state=42)"
      ],
      "metadata": {
        "id": "A9m6LQ035hrN"
      },
      "execution_count": null,
      "outputs": []
    },
    {
      "cell_type": "code",
      "source": [
        "# 4. Entrenar y Evaluar el Modelo\n",
        "clf = RandomForestClassifier(n_estimators=100, random_state=42)\n",
        "clf.fit(X_train, y_train)"
      ],
      "metadata": {
        "colab": {
          "base_uri": "https://localhost:8080/",
          "height": 75
        },
        "id": "qHU9xdV95jpD",
        "outputId": "68124319-95d0-4d4f-f946-d8cf123c89af"
      },
      "execution_count": null,
      "outputs": [
        {
          "output_type": "execute_result",
          "data": {
            "text/plain": [
              "RandomForestClassifier(random_state=42)"
            ],
            "text/html": [
              "<style>#sk-container-id-1 {color: black;background-color: white;}#sk-container-id-1 pre{padding: 0;}#sk-container-id-1 div.sk-toggleable {background-color: white;}#sk-container-id-1 label.sk-toggleable__label {cursor: pointer;display: block;width: 100%;margin-bottom: 0;padding: 0.3em;box-sizing: border-box;text-align: center;}#sk-container-id-1 label.sk-toggleable__label-arrow:before {content: \"▸\";float: left;margin-right: 0.25em;color: #696969;}#sk-container-id-1 label.sk-toggleable__label-arrow:hover:before {color: black;}#sk-container-id-1 div.sk-estimator:hover label.sk-toggleable__label-arrow:before {color: black;}#sk-container-id-1 div.sk-toggleable__content {max-height: 0;max-width: 0;overflow: hidden;text-align: left;background-color: #f0f8ff;}#sk-container-id-1 div.sk-toggleable__content pre {margin: 0.2em;color: black;border-radius: 0.25em;background-color: #f0f8ff;}#sk-container-id-1 input.sk-toggleable__control:checked~div.sk-toggleable__content {max-height: 200px;max-width: 100%;overflow: auto;}#sk-container-id-1 input.sk-toggleable__control:checked~label.sk-toggleable__label-arrow:before {content: \"▾\";}#sk-container-id-1 div.sk-estimator input.sk-toggleable__control:checked~label.sk-toggleable__label {background-color: #d4ebff;}#sk-container-id-1 div.sk-label input.sk-toggleable__control:checked~label.sk-toggleable__label {background-color: #d4ebff;}#sk-container-id-1 input.sk-hidden--visually {border: 0;clip: rect(1px 1px 1px 1px);clip: rect(1px, 1px, 1px, 1px);height: 1px;margin: -1px;overflow: hidden;padding: 0;position: absolute;width: 1px;}#sk-container-id-1 div.sk-estimator {font-family: monospace;background-color: #f0f8ff;border: 1px dotted black;border-radius: 0.25em;box-sizing: border-box;margin-bottom: 0.5em;}#sk-container-id-1 div.sk-estimator:hover {background-color: #d4ebff;}#sk-container-id-1 div.sk-parallel-item::after {content: \"\";width: 100%;border-bottom: 1px solid gray;flex-grow: 1;}#sk-container-id-1 div.sk-label:hover label.sk-toggleable__label {background-color: #d4ebff;}#sk-container-id-1 div.sk-serial::before {content: \"\";position: absolute;border-left: 1px solid gray;box-sizing: border-box;top: 0;bottom: 0;left: 50%;z-index: 0;}#sk-container-id-1 div.sk-serial {display: flex;flex-direction: column;align-items: center;background-color: white;padding-right: 0.2em;padding-left: 0.2em;position: relative;}#sk-container-id-1 div.sk-item {position: relative;z-index: 1;}#sk-container-id-1 div.sk-parallel {display: flex;align-items: stretch;justify-content: center;background-color: white;position: relative;}#sk-container-id-1 div.sk-item::before, #sk-container-id-1 div.sk-parallel-item::before {content: \"\";position: absolute;border-left: 1px solid gray;box-sizing: border-box;top: 0;bottom: 0;left: 50%;z-index: -1;}#sk-container-id-1 div.sk-parallel-item {display: flex;flex-direction: column;z-index: 1;position: relative;background-color: white;}#sk-container-id-1 div.sk-parallel-item:first-child::after {align-self: flex-end;width: 50%;}#sk-container-id-1 div.sk-parallel-item:last-child::after {align-self: flex-start;width: 50%;}#sk-container-id-1 div.sk-parallel-item:only-child::after {width: 0;}#sk-container-id-1 div.sk-dashed-wrapped {border: 1px dashed gray;margin: 0 0.4em 0.5em 0.4em;box-sizing: border-box;padding-bottom: 0.4em;background-color: white;}#sk-container-id-1 div.sk-label label {font-family: monospace;font-weight: bold;display: inline-block;line-height: 1.2em;}#sk-container-id-1 div.sk-label-container {text-align: center;}#sk-container-id-1 div.sk-container {/* jupyter's `normalize.less` sets `[hidden] { display: none; }` but bootstrap.min.css set `[hidden] { display: none !important; }` so we also need the `!important` here to be able to override the default hidden behavior on the sphinx rendered scikit-learn.org. See: https://github.com/scikit-learn/scikit-learn/issues/21755 */display: inline-block !important;position: relative;}#sk-container-id-1 div.sk-text-repr-fallback {display: none;}</style><div id=\"sk-container-id-1\" class=\"sk-top-container\"><div class=\"sk-text-repr-fallback\"><pre>RandomForestClassifier(random_state=42)</pre><b>In a Jupyter environment, please rerun this cell to show the HTML representation or trust the notebook. <br />On GitHub, the HTML representation is unable to render, please try loading this page with nbviewer.org.</b></div><div class=\"sk-container\" hidden><div class=\"sk-item\"><div class=\"sk-estimator sk-toggleable\"><input class=\"sk-toggleable__control sk-hidden--visually\" id=\"sk-estimator-id-1\" type=\"checkbox\" checked><label for=\"sk-estimator-id-1\" class=\"sk-toggleable__label sk-toggleable__label-arrow\">RandomForestClassifier</label><div class=\"sk-toggleable__content\"><pre>RandomForestClassifier(random_state=42)</pre></div></div></div></div></div>"
            ]
          },
          "metadata": {},
          "execution_count": 8
        }
      ]
    },
    {
      "cell_type": "code",
      "source": [
        "# Evaluar el rendimiento del modelo\n",
        "y_pred = clf.predict(X_test)\n",
        "print(classification_report(y_test, y_pred))"
      ],
      "metadata": {
        "colab": {
          "base_uri": "https://localhost:8080/"
        },
        "id": "2_fnMthZ5mQ1",
        "outputId": "eada0301-af99-402d-f0ef-c15452979299"
      },
      "execution_count": null,
      "outputs": [
        {
          "output_type": "stream",
          "name": "stdout",
          "text": [
            "              precision    recall  f1-score   support\n",
            "\n",
            "           0       1.00      1.00      1.00     20950\n",
            "           1       1.00      0.64      0.78        22\n",
            "\n",
            "    accuracy                           1.00     20972\n",
            "   macro avg       1.00      0.82      0.89     20972\n",
            "weighted avg       1.00      1.00      1.00     20972\n",
            "\n"
          ]
        }
      ]
    },
    {
      "cell_type": "code",
      "source": [
        "# 5. Analizar la Importancia de las Características\n",
        "# Calcular la importancia de las características\n",
        "feature_importances = clf.feature_importances_\n",
        "print(\"Importancia de las características:\")\n",
        "for feature, importance in zip(X.columns, feature_importances):\n",
        "    print(f\"{feature}: {importance}\")"
      ],
      "metadata": {
        "colab": {
          "base_uri": "https://localhost:8080/"
        },
        "id": "blk33cBh59R_",
        "outputId": "bf6f6660-ea17-4420-cd63-1fe547e326b6"
      },
      "execution_count": null,
      "outputs": [
        {
          "output_type": "stream",
          "name": "stdout",
          "text": [
            "Importancia de las características:\n",
            "step: 0.22669047460340883\n",
            "amount: 0.2192005473837935\n",
            "oldbalanceOrg: 0.20008784015647446\n",
            "newbalanceOrig: 0.03210310167902839\n",
            "oldbalanceDest: 0.0957635064916105\n",
            "newbalanceDest: 0.17668070151928073\n",
            "type_CASH_IN: 0.006346996039506562\n",
            "type_CASH_OUT: 0.01492150297477619\n",
            "type_DEBIT: 0.0006773706919876919\n",
            "type_PAYMENT: 0.003966417770541798\n",
            "type_TRANSFER: 0.02356154068959139\n"
          ]
        }
      ]
    },
    {
      "cell_type": "code",
      "source": [
        "# 6. Calcular Métricas Adicionales y Visualizar la Matriz de Confusión\n",
        "from sklearn.metrics import accuracy_score, precision_score, recall_score, f1_score, confusion_matrix\n",
        "\n",
        "# Calcular métricas\n",
        "accuracy = accuracy_score(y_test, y_pred)\n",
        "precision = precision_score(y_test, y_pred)\n",
        "recall = recall_score(y_test, y_pred)\n",
        "f1 = f1_score(y_test, y_pred)\n",
        "\n",
        "# Imprimir métricas\n",
        "print(\"Métricas del modelo:\")\n",
        "print(f\"Accuracy: {accuracy}\")\n",
        "print(f\"Precision: {precision}\")\n",
        "print(f\"Recall: {recall}\")\n",
        "print(f\"F1-score: {f1}\")\n",
        "\n",
        "# Calcular y visualizar la matriz de confusión\n",
        "conf_matrix = confusion_matrix(y_test, y_pred)\n",
        "print(\"\\nMatriz de Confusión:\")\n",
        "print(conf_matrix)"
      ],
      "metadata": {
        "id": "e2U_Y1Cf7ONn",
        "outputId": "fea900d7-6beb-429e-bba2-804775c09342",
        "colab": {
          "base_uri": "https://localhost:8080/"
        }
      },
      "execution_count": null,
      "outputs": [
        {
          "output_type": "stream",
          "name": "stdout",
          "text": [
            "Métricas del modelo:\n",
            "Accuracy: 0.9996185390043868\n",
            "Precision: 1.0\n",
            "Recall: 0.6363636363636364\n",
            "F1-score: 0.7777777777777778\n",
            "\n",
            "Matriz de Confusión:\n",
            "[[20950     0]\n",
            " [    8    14]]\n"
          ]
        }
      ]
    },
    {
      "cell_type": "markdown",
      "source": [
        "# CONCLUSIONES"
      ],
      "metadata": {
        "id": "GL8HiG4BZPI2"
      }
    },
    {
      "cell_type": "markdown",
      "source": [
        "El modelo ha demostrado un rendimiento sólido en términos de precisión y accuracy. Sin embargo, la métrica de recall es un poco más baja, lo que indica que el modelo no identifica todas las transacciones fraudulentas. La importancia de las características muestra que \"step\", \"amount\", \"oldbalanceOrg\", \"newbalanceDest\" y \"oldbalanceDest\" son las más influyentes en la predicción de fraudes.\n"
      ],
      "metadata": {
        "id": "1e0Wpbh2YyCX"
      }
    },
    {
      "cell_type": "markdown",
      "source": [
        "Aunque el modelo actual proporciona un buen rendimiento en términos de precisión y accuracy, es importante tener en cuenta que la detección de fraudes en transacciones financieras es un desafío continuo debido a la naturaleza cambiante de los métodos de fraude. Por lo tanto, es recomendable implementar un sistema de monitoreo continuo y actualizaciones periódicas del modelo para adaptarse a nuevos patrones de fraude y mejorar la capacidad de detección en el tiempo. Además, la colaboración con expertos en seguridad financiera y la incorporación de datos externos, como información sobre actividades delictivas conocidas, podrían mejorar aún más la precisión y la eficacia del modelo en la detección de fraudes."
      ],
      "metadata": {
        "id": "OtVo7wGLY4Vd"
      }
    },
    {
      "cell_type": "markdown",
      "source": [
        "Esta conclusión resalta la importancia de la vigilancia continua y la adaptación del modelo para mantenerse al día con las nuevas amenazas y proteger eficazmente las transacciones financieras contra el fraude.\n"
      ],
      "metadata": {
        "id": "Mg_0XXEEZEeg"
      }
    }
  ]
}